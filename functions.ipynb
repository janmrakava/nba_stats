{
 "cells": [
  {
   "cell_type": "markdown",
   "metadata": {},
   "source": [
    "# Functions for all statistic informations of players"
   ]
  },
  {
   "cell_type": "markdown",
   "metadata": {},
   "source": [
    "### Function for counting of average win / lose of every player for 25 seasons"
   ]
  },
  {
   "cell_type": "code",
   "execution_count": 4,
   "metadata": {},
   "outputs": [
    {
     "name": "stdout",
     "output_type": "stream",
     "text": [
      "                PLAYER       W       L\n",
      "0       Michael Jordan   64.71   35.29\n",
      "1          Karl Malone   67.65   32.35\n",
      "2            Glen Rice   61.22   38.78\n",
      "3       Mitch Richmond   43.09   56.91\n",
      "4     Latrell Sprewell   51.07   48.93\n",
      "...                ...     ...     ...\n",
      "2324      Didi Louzada    0.00  100.00\n",
      "2325       Malik Fitts  100.00    0.00\n",
      "2326     Ashton Hagans    0.00  100.00\n",
      "2327  Greg Whittington   75.00   25.00\n",
      "2328       Will Magnay  100.00    0.00\n",
      "\n",
      "[2329 rows x 3 columns]\n"
     ]
    }
   ],
   "source": [
    "from openpyxl import load_workbook\n",
    "\n",
    "def number_W_L_all_time():\n",
    "    %store -r teamsAll\n",
    "    %store -r df_teams\n",
    "    %store -r sheet_names\n",
    "    %store -r dict_df\n",
    "    %store -r allPlayers\n",
    "    %store -r df_allPlayers\n",
    "    \n",
    "    stats_W = []\n",
    "    stats_L = []   \n",
    "    for player in allPlayers:\n",
    "        vyher = 0\n",
    "        pocetZapasu = 0 \n",
    "        for season in sheet_names:\n",
    "            seasonList = dict_df.get(season)\n",
    "            vyher += seasonList.loc[seasonList['PLAYER'] == player, 'W'].sum()\n",
    "            pocetZapasu += seasonList.loc[seasonList['PLAYER'] == player, 'GP'].sum()\n",
    "        vyher = round((vyher/pocetZapasu)*100,2)\n",
    "        proher = round(100 - vyher,2)\n",
    "        stats_W.append(vyher)\n",
    "        stats_L.append(proher)\n",
    "    df_allPlayers['W'] = stats_W\n",
    "    df_allPlayers['L'] = stats_L\n",
    "number_W_L_all_time()\n",
    "print(df_allPlayers)"
   ]
  },
  {
   "cell_type": "markdown",
   "metadata": {},
   "source": [
    "### Function for counting of average field goals of every player for 25 seasons "
   ]
  },
  {
   "cell_type": "code",
   "execution_count": 5,
   "metadata": {},
   "outputs": [
    {
     "name": "stdout",
     "output_type": "stream",
     "text": [
      "                PLAYER       W       L    FGM\n",
      "0       Michael Jordan   64.71   35.29  45.68\n",
      "1          Karl Malone   67.65   32.35  50.08\n",
      "2            Glen Rice   61.22   38.78  44.58\n",
      "3       Mitch Richmond   43.09   56.91  43.38\n",
      "4     Latrell Sprewell   51.07   48.93  42.04\n",
      "...                ...     ...     ...    ...\n",
      "2324      Didi Louzada    0.00  100.00  23.08\n",
      "2325       Malik Fitts  100.00    0.00  33.33\n",
      "2326     Ashton Hagans    0.00  100.00   0.00\n",
      "2327  Greg Whittington   75.00   25.00   0.00\n",
      "2328       Will Magnay  100.00    0.00   0.00\n",
      "\n",
      "[2329 rows x 4 columns]\n"
     ]
    }
   ],
   "source": [
    "def succ_field_goals():  \n",
    "    stats_USP = [] \n",
    "    for player in allPlayers:\n",
    "        pocetUspesnych = 0\n",
    "        celkovyPocet = 0\n",
    "        for season in sheet_names:\n",
    "            seasonList = dict_df.get(season)\n",
    "            celkovyPocet += seasonList.loc[seasonList['PLAYER'] == player, 'FGA'].sum()\n",
    "            pocetUspesnych += seasonList.loc[seasonList['PLAYER'] == player, 'FGM'].sum()\n",
    "        if (celkovyPocet > 0):\n",
    "            uspesnost = round((pocetUspesnych/celkovyPocet)*100,2)\n",
    "            stats_USP.append(uspesnost)\n",
    "        else: \n",
    "            stats_USP.append(0)        \n",
    "    df_allPlayers['FGM'] = stats_USP\n",
    "succ_field_goals()\n",
    "print(df_allPlayers)"
   ]
  },
  {
   "cell_type": "markdown",
   "metadata": {},
   "source": [
    "### Function for counting of average of 3 point shoots of every player for 25 seasons"
   ]
  },
  {
   "cell_type": "code",
   "execution_count": 6,
   "metadata": {},
   "outputs": [
    {
     "name": "stdout",
     "output_type": "stream",
     "text": [
      "                PLAYER       W       L    FGM    3PM\n",
      "0       Michael Jordan   64.71   35.29  45.68  31.45\n",
      "1          Karl Malone   67.65   32.35  50.08  24.66\n",
      "2            Glen Rice   61.22   38.78  44.58  40.71\n",
      "3       Mitch Richmond   43.09   56.91  43.38  38.15\n",
      "4     Latrell Sprewell   51.07   48.93  42.04  34.17\n",
      "...                ...     ...     ...    ...    ...\n",
      "2324      Didi Louzada    0.00  100.00  23.08  25.00\n",
      "2325       Malik Fitts  100.00    0.00  33.33  50.00\n",
      "2326     Ashton Hagans    0.00  100.00   0.00   0.00\n",
      "2327  Greg Whittington   75.00   25.00   0.00   0.00\n",
      "2328       Will Magnay  100.00    0.00   0.00   0.00\n",
      "\n",
      "[2329 rows x 5 columns]\n"
     ]
    }
   ],
   "source": [
    "def succ_three_goals():  \n",
    "    stats_USP = []  \n",
    "    for player in allPlayers:\n",
    "        celkovyPocet = 0\n",
    "        pocetUspesnych = 0\n",
    "        for season in sheet_names:\n",
    "            seasonList = dict_df.get(season)\n",
    "            celkovyPocet += seasonList.loc[seasonList['PLAYER'] == player, '3PA'].sum()\n",
    "            pocetUspesnych += seasonList.loc[seasonList['PLAYER'] == player, '3PM'].sum()\n",
    "        if (celkovyPocet > 0 ):            \n",
    "            uspesnost = round((pocetUspesnych/celkovyPocet)*100,2)\n",
    "            stats_USP.append(uspesnost)\n",
    "        else:\n",
    "            stats_USP.append(0)\n",
    "    df_allPlayers['3PM'] = stats_USP\n",
    "succ_three_goals()\n",
    "print(df_allPlayers)\n",
    "    "
   ]
  },
  {
   "cell_type": "markdown",
   "metadata": {},
   "source": [
    "### Function for counting of average free throws of every player for 25 seasons"
   ]
  },
  {
   "cell_type": "code",
   "execution_count": 7,
   "metadata": {},
   "outputs": [
    {
     "name": "stdout",
     "output_type": "stream",
     "text": [
      "                PLAYER       W       L    FGM    3PM    FTM\n",
      "0       Michael Jordan   64.71   35.29  45.68  31.45  80.55\n",
      "1          Karl Malone   67.65   32.35  50.08  24.66  77.69\n",
      "2            Glen Rice   61.22   38.78  44.58  40.71  85.57\n",
      "3       Mitch Richmond   43.09   56.91  43.38  38.15  86.90\n",
      "4     Latrell Sprewell   51.07   48.93  42.04  34.17  82.18\n",
      "...                ...     ...     ...    ...    ...    ...\n",
      "2324      Didi Louzada    0.00  100.00  23.08  25.00   0.00\n",
      "2325       Malik Fitts  100.00    0.00  33.33  50.00   0.00\n",
      "2326     Ashton Hagans    0.00  100.00   0.00   0.00   0.00\n",
      "2327  Greg Whittington   75.00   25.00   0.00   0.00   0.00\n",
      "2328       Will Magnay  100.00    0.00   0.00   0.00   0.00\n",
      "\n",
      "[2329 rows x 6 columns]\n"
     ]
    }
   ],
   "source": [
    "def succ_free_throws(): \n",
    "    stats_USP = []  \n",
    "    for player in allPlayers:\n",
    "        celkovyPocet = 0\n",
    "        pocetUspesnych = 0\n",
    "        for season in sheet_names:\n",
    "            seasonList = dict_df.get(season)\n",
    "            celkovyPocet += seasonList.loc[seasonList['PLAYER'] == player, 'FTA'].sum()\n",
    "            pocetUspesnych += seasonList.loc[seasonList['PLAYER'] == player, 'FTM'].sum()\n",
    "        if (celkovyPocet > 0):\n",
    "            uspesnost = round((pocetUspesnych/celkovyPocet)*100,2)\n",
    "            stats_USP.append(uspesnost)\n",
    "        else: \n",
    "            stats_USP.append(0)  \n",
    "    df_allPlayers['FTM'] = stats_USP      \n",
    "succ_free_throws()\n",
    "print(df_allPlayers)\n"
   ]
  },
  {
   "cell_type": "markdown",
   "metadata": {},
   "source": [
    "### Function for counting of average assists of every player for 25 seasons"
   ]
  },
  {
   "cell_type": "code",
   "execution_count": 8,
   "metadata": {},
   "outputs": [
    {
     "name": "stdout",
     "output_type": "stream",
     "text": [
      "                PLAYER       W       L    FGM    3PM    FTM   AST\n",
      "0       Michael Jordan   64.71   35.29  45.68  31.45  80.55  4.10\n",
      "1          Karl Malone   67.65   32.35  50.08  24.66  77.69  4.21\n",
      "2            Glen Rice   61.22   38.78  44.58  40.71  85.57  1.76\n",
      "3       Mitch Richmond   43.09   56.91  43.38  38.15  86.90  2.90\n",
      "4     Latrell Sprewell   51.07   48.93  42.04  34.17  82.18  3.92\n",
      "...                ...     ...     ...    ...    ...    ...   ...\n",
      "2324      Didi Louzada    0.00  100.00  23.08  25.00   0.00  1.00\n",
      "2325       Malik Fitts  100.00    0.00  33.33  50.00   0.00  0.00\n",
      "2326     Ashton Hagans    0.00  100.00   0.00   0.00   0.00  0.00\n",
      "2327  Greg Whittington   75.00   25.00   0.00   0.00   0.00  0.00\n",
      "2328       Will Magnay  100.00    0.00   0.00   0.00   0.00  0.00\n",
      "\n",
      "[2329 rows x 7 columns]\n"
     ]
    }
   ],
   "source": [
    "def avg_assists(): \n",
    "    stats_AST = [] \n",
    "    for player in allPlayers:\n",
    "        pocetAST = 0\n",
    "        pocetZapasu = 0\n",
    "        for season in sheet_names:\n",
    "            seasonList = dict_df.get(season)\n",
    "            pocetAST += seasonList.loc[seasonList['PLAYER'] == player, 'AST'].sum()\n",
    "            pocetZapasu += seasonList.loc[seasonList['PLAYER'] == player, 'GP'].sum()\n",
    "        if (pocetZapasu > 0 ):\n",
    "            prumerAST = round((pocetAST/pocetZapasu),2)\n",
    "            stats_AST.append(prumerAST)\n",
    "        else: \n",
    "            stats_AST.append(0)\n",
    "    df_allPlayers['AST'] = stats_AST\n",
    "avg_assists()\n",
    "print(df_allPlayers)   "
   ]
  },
  {
   "cell_type": "markdown",
   "metadata": {},
   "source": [
    "### Function for counting of average rebounds of every player for 25 seasons"
   ]
  },
  {
   "cell_type": "code",
   "execution_count": 9,
   "metadata": {},
   "outputs": [
    {
     "name": "stdout",
     "output_type": "stream",
     "text": [
      "                PLAYER       W       L    FGM    3PM    FTM   AST   REB  OREB  \\\n",
      "0       Michael Jordan   64.71   35.29  45.68  31.45  80.55  4.10  5.86  1.19   \n",
      "1          Karl Malone   67.65   32.35  50.08  24.66  77.69  4.21  9.06  1.88   \n",
      "2            Glen Rice   61.22   38.78  44.58  40.71  85.57  1.76  3.64  0.72   \n",
      "3       Mitch Richmond   43.09   56.91  43.38  38.15  86.90  2.90  3.02  0.55   \n",
      "4     Latrell Sprewell   51.07   48.93  42.04  34.17  82.18  3.92  3.98  0.71   \n",
      "...                ...     ...     ...    ...    ...    ...   ...   ...   ...   \n",
      "2324      Didi Louzada    0.00  100.00  23.08  25.00   0.00  1.00  1.00  0.33   \n",
      "2325       Malik Fitts  100.00    0.00  33.33  50.00   0.00  0.00  1.00  0.00   \n",
      "2326     Ashton Hagans    0.00  100.00   0.00   0.00   0.00  0.00  0.00  0.00   \n",
      "2327  Greg Whittington   75.00   25.00   0.00   0.00   0.00  0.00  0.00  0.00   \n",
      "2328       Will Magnay  100.00    0.00   0.00   0.00   0.00  0.00  0.00  0.00   \n",
      "\n",
      "      DREB  \n",
      "0     4.67  \n",
      "1     7.18  \n",
      "2     2.92  \n",
      "3     2.47  \n",
      "4     3.27  \n",
      "...    ...  \n",
      "2324  0.67  \n",
      "2325  1.00  \n",
      "2326  0.00  \n",
      "2327  0.00  \n",
      "2328  0.00  \n",
      "\n",
      "[2329 rows x 10 columns]\n"
     ]
    }
   ],
   "source": [
    "def avg_rebounds():\n",
    "    stats_REB = []\n",
    "    stats_OREB = []\n",
    "    stats_DREB = []\n",
    "    for player in allPlayers:\n",
    "        pocetDoskoku = 0\n",
    "        pocetZapasu = 0\n",
    "        pocetOfDoskoku = 0\n",
    "        for season in sheet_names:\n",
    "            seasonList = dict_df.get(season)\n",
    "            pocetDoskoku += seasonList.loc[seasonList['PLAYER'] == player, 'REB'].sum()\n",
    "            pocetOfDoskoku += seasonList.loc[seasonList['PLAYER'] == player, 'OREB'].sum()\n",
    "            pocetZapasu += seasonList.loc[seasonList['PLAYER'] == player, 'GP'].sum()\n",
    "        if (pocetZapasu > 0):\n",
    "            prumer = round((pocetDoskoku/pocetZapasu),2)\n",
    "            prumerOf = round((pocetOfDoskoku/pocetZapasu),2)\n",
    "            stats_REB.append(prumer)\n",
    "            stats_OREB.append(prumerOf)\n",
    "            stats_DREB.append(prumer-prumerOf)\n",
    "        else:\n",
    "            stats_REB.append(0)\n",
    "            stats_OREB.append(0)\n",
    "            stats_DREB.append(0)            \n",
    "    df_allPlayers['REB'] = stats_REB\n",
    "    df_allPlayers['OREB'] = stats_OREB\n",
    "    df_allPlayers['DREB'] = stats_DREB\n",
    "avg_rebounds()\n",
    "print(df_allPlayers)\n",
    "            "
   ]
  },
  {
   "cell_type": "markdown",
   "metadata": {},
   "source": [
    "### Function for counting of average points of every player for 25 seasons"
   ]
  },
  {
   "cell_type": "code",
   "execution_count": 10,
   "metadata": {},
   "outputs": [
    {
     "name": "stdout",
     "output_type": "stream",
     "text": [
      "                PLAYER       W       L    FGM    3PM    FTM   AST   REB  OREB  \\\n",
      "0       Michael Jordan   64.71   35.29  45.68  31.45  80.55  4.10  5.86  1.19   \n",
      "1          Karl Malone   67.65   32.35  50.08  24.66  77.69  4.21  9.06  1.88   \n",
      "2            Glen Rice   61.22   38.78  44.58  40.71  85.57  1.76  3.64  0.72   \n",
      "3       Mitch Richmond   43.09   56.91  43.38  38.15  86.90  2.90  3.02  0.55   \n",
      "4     Latrell Sprewell   51.07   48.93  42.04  34.17  82.18  3.92  3.98  0.71   \n",
      "...                ...     ...     ...    ...    ...    ...   ...   ...   ...   \n",
      "2324      Didi Louzada    0.00  100.00  23.08  25.00   0.00  1.00  1.00  0.33   \n",
      "2325       Malik Fitts  100.00    0.00  33.33  50.00   0.00  0.00  1.00  0.00   \n",
      "2326     Ashton Hagans    0.00  100.00   0.00   0.00   0.00  0.00  0.00  0.00   \n",
      "2327  Greg Whittington   75.00   25.00   0.00   0.00   0.00  0.00  0.00  0.00   \n",
      "2328       Will Magnay  100.00    0.00   0.00   0.00   0.00  0.00  0.00  0.00   \n",
      "\n",
      "      DREB    PTS  \n",
      "0     4.67  25.50  \n",
      "1     7.18  23.50  \n",
      "2     2.92  16.17  \n",
      "3     2.47  18.20  \n",
      "4     3.27  17.99  \n",
      "...    ...    ...  \n",
      "2324  0.67   2.67  \n",
      "2325  1.00   1.00  \n",
      "2326  0.00   0.00  \n",
      "2327  0.00   0.00  \n",
      "2328  0.00   0.00  \n",
      "\n",
      "[2329 rows x 11 columns]\n"
     ]
    }
   ],
   "source": [
    "def sum_point_all_players():\n",
    "    stats_POINTS = []   \n",
    "    for player in allPlayers:\n",
    "        soucet = 0\n",
    "        pocet = 0\n",
    "        for season in sheet_names:\n",
    "            seasonList = dict_df.get(season)\n",
    "            soucet += seasonList.loc[seasonList['PLAYER'] == player, 'PTS'].sum()\n",
    "            pocet += seasonList.loc[seasonList['PLAYER'] == player, 'GP'].sum()\n",
    "        if (pocet > 0): \n",
    "            prumer = soucet.item()/pocet.item()\n",
    "            prumer = round(prumer,2)\n",
    "            stats_POINTS.append(prumer)\n",
    "        else:\n",
    "            stats_POINTS.append(0)\n",
    "    df_allPlayers['PTS']= stats_POINTS\n",
    "sum_point_all_players()\n",
    "print(df_allPlayers)\n",
    "            "
   ]
  },
  {
   "cell_type": "markdown",
   "metadata": {},
   "source": [
    "### Function for counting of average steals of every player for 25 seasons"
   ]
  },
  {
   "cell_type": "code",
   "execution_count": 11,
   "metadata": {},
   "outputs": [
    {
     "name": "stdout",
     "output_type": "stream",
     "text": [
      "                PLAYER       W       L    FGM    3PM    FTM   AST   REB  OREB  \\\n",
      "0       Michael Jordan   64.71   35.29  45.68  31.45  80.55  4.10  5.86  1.19   \n",
      "1          Karl Malone   67.65   32.35  50.08  24.66  77.69  4.21  9.06  1.88   \n",
      "2            Glen Rice   61.22   38.78  44.58  40.71  85.57  1.76  3.64  0.72   \n",
      "3       Mitch Richmond   43.09   56.91  43.38  38.15  86.90  2.90  3.02  0.55   \n",
      "4     Latrell Sprewell   51.07   48.93  42.04  34.17  82.18  3.92  3.98  0.71   \n",
      "...                ...     ...     ...    ...    ...    ...   ...   ...   ...   \n",
      "2324      Didi Louzada    0.00  100.00  23.08  25.00   0.00  1.00  1.00  0.33   \n",
      "2325       Malik Fitts  100.00    0.00  33.33  50.00   0.00  0.00  1.00  0.00   \n",
      "2326     Ashton Hagans    0.00  100.00   0.00   0.00   0.00  0.00  0.00  0.00   \n",
      "2327  Greg Whittington   75.00   25.00   0.00   0.00   0.00  0.00  0.00  0.00   \n",
      "2328       Will Magnay  100.00    0.00   0.00   0.00   0.00  0.00  0.00  0.00   \n",
      "\n",
      "      DREB    PTS   STL  \n",
      "0     4.67  25.50  1.60  \n",
      "1     7.18  23.50  1.35  \n",
      "2     2.92  16.17  0.66  \n",
      "3     2.47  18.20  1.17  \n",
      "4     3.27  17.99  1.24  \n",
      "...    ...    ...   ...  \n",
      "2324  0.67   2.67  0.67  \n",
      "2325  1.00   1.00  0.00  \n",
      "2326  0.00   0.00  0.00  \n",
      "2327  0.00   0.00  0.00  \n",
      "2328  0.00   0.00  0.00  \n",
      "\n",
      "[2329 rows x 12 columns]\n"
     ]
    }
   ],
   "source": [
    "def avg_steals():\n",
    "    stats_STL = []\n",
    "    for player in allPlayers:\n",
    "        soucet = 0\n",
    "        pocet = 0\n",
    "        for season in sheet_names:\n",
    "            seasonList = dict_df.get(season)\n",
    "            soucet += seasonList.loc[seasonList['PLAYER'] == player, 'STL'].sum()\n",
    "            pocet += seasonList.loc[seasonList['PLAYER'] == player, 'GP'].sum()\n",
    "        if (pocet > 0):\n",
    "            prumer = round((soucet/pocet),2)\n",
    "            stats_STL.append(prumer)\n",
    "        else:\n",
    "            stats_STL.append(0)\n",
    "    df_allPlayers['STL'] = stats_STL\n",
    "avg_steals()\n",
    "print(df_allPlayers)"
   ]
  },
  {
   "cell_type": "markdown",
   "metadata": {},
   "source": [
    "### Function for counting of average turnovers of every player for 25 seasons"
   ]
  },
  {
   "cell_type": "code",
   "execution_count": 12,
   "metadata": {},
   "outputs": [
    {
     "name": "stdout",
     "output_type": "stream",
     "text": [
      "                PLAYER       W       L    FGM    3PM    FTM   AST   REB  OREB  \\\n",
      "0       Michael Jordan   64.71   35.29  45.68  31.45  80.55  4.10  5.86  1.19   \n",
      "1          Karl Malone   67.65   32.35  50.08  24.66  77.69  4.21  9.06  1.88   \n",
      "2            Glen Rice   61.22   38.78  44.58  40.71  85.57  1.76  3.64  0.72   \n",
      "3       Mitch Richmond   43.09   56.91  43.38  38.15  86.90  2.90  3.02  0.55   \n",
      "4     Latrell Sprewell   51.07   48.93  42.04  34.17  82.18  3.92  3.98  0.71   \n",
      "...                ...     ...     ...    ...    ...    ...   ...   ...   ...   \n",
      "2324      Didi Louzada    0.00  100.00  23.08  25.00   0.00  1.00  1.00  0.33   \n",
      "2325       Malik Fitts  100.00    0.00  33.33  50.00   0.00  0.00  1.00  0.00   \n",
      "2326     Ashton Hagans    0.00  100.00   0.00   0.00   0.00  0.00  0.00  0.00   \n",
      "2327  Greg Whittington   75.00   25.00   0.00   0.00   0.00  0.00  0.00  0.00   \n",
      "2328       Will Magnay  100.00    0.00   0.00   0.00   0.00  0.00  0.00  0.00   \n",
      "\n",
      "      DREB    PTS   STL   TOV  \n",
      "0     4.67  25.50  1.60  2.24  \n",
      "1     7.18  23.50  1.35  2.93  \n",
      "2     2.92  16.17  0.66  1.56  \n",
      "3     2.47  18.20  1.17  2.21  \n",
      "4     3.27  17.99  1.24  2.58  \n",
      "...    ...    ...   ...   ...  \n",
      "2324  0.67   2.67  0.67  1.00  \n",
      "2325  1.00   1.00  0.00  0.00  \n",
      "2326  0.00   0.00  0.00  0.50  \n",
      "2327  0.00   0.00  0.00  0.00  \n",
      "2328  0.00   0.00  0.00  1.00  \n",
      "\n",
      "[2329 rows x 13 columns]\n"
     ]
    }
   ],
   "source": [
    "def avg_turnovers():\n",
    "    stats_TOV = []\n",
    "    for player in allPlayers:\n",
    "        soucet = 0\n",
    "        pocet = 0\n",
    "        for season in sheet_names:\n",
    "            seasonList = dict_df.get(season)\n",
    "            soucet += seasonList.loc[seasonList['PLAYER'] == player, 'TOV'].sum()\n",
    "            pocet += seasonList.loc[seasonList['PLAYER'] == player, 'GP'].sum()\n",
    "        if (pocet > 0):\n",
    "            prumer = round((soucet/pocet),2)\n",
    "            stats_TOV.append(prumer)\n",
    "        else:\n",
    "            stats_TOV.append(0)\n",
    "    df_allPlayers['TOV'] = stats_TOV\n",
    "avg_turnovers()\n",
    "print(df_allPlayers)\n",
    "            "
   ]
  },
  {
   "cell_type": "markdown",
   "metadata": {},
   "source": [
    "### Function for counting of average blocks of every player for 25 seasons"
   ]
  },
  {
   "cell_type": "code",
   "execution_count": 13,
   "metadata": {},
   "outputs": [
    {
     "name": "stdout",
     "output_type": "stream",
     "text": [
      "                PLAYER       W       L    FGM    3PM    FTM   AST   REB  OREB  \\\n",
      "0       Michael Jordan   64.71   35.29  45.68  31.45  80.55  4.10  5.86  1.19   \n",
      "1          Karl Malone   67.65   32.35  50.08  24.66  77.69  4.21  9.06  1.88   \n",
      "2            Glen Rice   61.22   38.78  44.58  40.71  85.57  1.76  3.64  0.72   \n",
      "3       Mitch Richmond   43.09   56.91  43.38  38.15  86.90  2.90  3.02  0.55   \n",
      "4     Latrell Sprewell   51.07   48.93  42.04  34.17  82.18  3.92  3.98  0.71   \n",
      "...                ...     ...     ...    ...    ...    ...   ...   ...   ...   \n",
      "2324      Didi Louzada    0.00  100.00  23.08  25.00   0.00  1.00  1.00  0.33   \n",
      "2325       Malik Fitts  100.00    0.00  33.33  50.00   0.00  0.00  1.00  0.00   \n",
      "2326     Ashton Hagans    0.00  100.00   0.00   0.00   0.00  0.00  0.00  0.00   \n",
      "2327  Greg Whittington   75.00   25.00   0.00   0.00   0.00  0.00  0.00  0.00   \n",
      "2328       Will Magnay  100.00    0.00   0.00   0.00   0.00  0.00  0.00  0.00   \n",
      "\n",
      "      DREB    PTS   STL   TOV   BLK  \n",
      "0     4.67  25.50  1.60  2.24  0.50  \n",
      "1     7.18  23.50  1.35  2.93  0.67  \n",
      "2     2.92  16.17  0.66  1.56  0.19  \n",
      "3     2.47  18.20  1.17  2.21  0.20  \n",
      "4     3.27  17.99  1.24  2.58  0.30  \n",
      "...    ...    ...   ...   ...   ...  \n",
      "2324  0.67   2.67  0.67  1.00  0.00  \n",
      "2325  1.00   1.00  0.00  0.00  0.00  \n",
      "2326  0.00   0.00  0.00  0.50  0.00  \n",
      "2327  0.00   0.00  0.00  0.00  0.00  \n",
      "2328  0.00   0.00  0.00  1.00  0.00  \n",
      "\n",
      "[2329 rows x 14 columns]\n"
     ]
    }
   ],
   "source": [
    "def avg_blocks():\n",
    "    stats_BLK = []\n",
    "    for player in allPlayers:\n",
    "        soucet = 0\n",
    "        pocet = 0\n",
    "        for season in sheet_names:\n",
    "            seasonList = dict_df.get(season)\n",
    "            soucet += seasonList.loc[seasonList['PLAYER'] == player, 'BLK'].sum()\n",
    "            pocet += seasonList.loc[seasonList['PLAYER'] == player, 'GP'].sum()\n",
    "        if (pocet > 0):\n",
    "            prumer = round((soucet/pocet),2)\n",
    "            stats_BLK.append(prumer)\n",
    "        else:\n",
    "            stats_BLK.append(0)\n",
    "    df_allPlayers['BLK'] = stats_BLK\n",
    "avg_blocks()\n",
    "print(df_allPlayers)\n",
    "            "
   ]
  },
  {
   "cell_type": "markdown",
   "metadata": {},
   "source": [
    "### Function for counting of average personal fouls of every player for 25 seasons"
   ]
  },
  {
   "cell_type": "code",
   "execution_count": 14,
   "metadata": {},
   "outputs": [
    {
     "name": "stdout",
     "output_type": "stream",
     "text": [
      "                PLAYER       W       L    FGM    3PM    FTM   AST   REB  OREB  \\\n",
      "0       Michael Jordan   64.71   35.29  45.68  31.45  80.55  4.10  5.86  1.19   \n",
      "1          Karl Malone   67.65   32.35  50.08  24.66  77.69  4.21  9.06  1.88   \n",
      "2            Glen Rice   61.22   38.78  44.58  40.71  85.57  1.76  3.64  0.72   \n",
      "3       Mitch Richmond   43.09   56.91  43.38  38.15  86.90  2.90  3.02  0.55   \n",
      "4     Latrell Sprewell   51.07   48.93  42.04  34.17  82.18  3.92  3.98  0.71   \n",
      "...                ...     ...     ...    ...    ...    ...   ...   ...   ...   \n",
      "2324      Didi Louzada    0.00  100.00  23.08  25.00   0.00  1.00  1.00  0.33   \n",
      "2325       Malik Fitts  100.00    0.00  33.33  50.00   0.00  0.00  1.00  0.00   \n",
      "2326     Ashton Hagans    0.00  100.00   0.00   0.00   0.00  0.00  0.00  0.00   \n",
      "2327  Greg Whittington   75.00   25.00   0.00   0.00   0.00  0.00  0.00  0.00   \n",
      "2328       Will Magnay  100.00    0.00   0.00   0.00   0.00  0.00  0.00  0.00   \n",
      "\n",
      "      DREB    PTS   STL   TOV   BLK    PF  \n",
      "0     4.67  25.50  1.60  2.24  0.50  1.95  \n",
      "1     7.18  23.50  1.35  2.93  0.67  2.74  \n",
      "2     2.92  16.17  0.66  1.56  0.19  2.15  \n",
      "3     2.47  18.20  1.17  2.21  0.20  2.18  \n",
      "4     3.27  17.99  1.24  2.58  0.30  1.82  \n",
      "...    ...    ...   ...   ...   ...   ...  \n",
      "2324  0.67   2.67  0.67  1.00  0.00  1.67  \n",
      "2325  1.00   1.00  0.00  0.00  0.00  1.00  \n",
      "2326  0.00   0.00  0.00  0.50  0.00  0.00  \n",
      "2327  0.00   0.00  0.00  0.00  0.00  0.00  \n",
      "2328  0.00   0.00  0.00  1.00  0.00  1.00  \n",
      "\n",
      "[2329 rows x 15 columns]\n"
     ]
    }
   ],
   "source": [
    "def avg_person_fauls():\n",
    "    stats_PF = []\n",
    "    for player in allPlayers:\n",
    "        soucet = 0\n",
    "        pocet = 0\n",
    "        for season in sheet_names:\n",
    "            seasonList = dict_df.get(season)\n",
    "            soucet += seasonList.loc[seasonList['PLAYER'] == player, 'PF'].sum()\n",
    "            pocet += seasonList.loc[seasonList['PLAYER'] == player, 'GP'].sum()\n",
    "        if (pocet > 0):\n",
    "            prumer = round((soucet/pocet),2)\n",
    "            stats_PF.append(prumer)\n",
    "        else:\n",
    "            stats_PF.append(0)\n",
    "    df_allPlayers['PF'] = stats_PF\n",
    "avg_person_fauls()\n",
    "print(df_allPlayers)\n",
    "            \n",
    "    "
   ]
  },
  {
   "cell_type": "markdown",
   "metadata": {},
   "source": [
    "### Function for counting of average +/- of every player for 25 seasons"
   ]
  },
  {
   "cell_type": "code",
   "execution_count": 15,
   "metadata": {},
   "outputs": [
    {
     "name": "stdout",
     "output_type": "stream",
     "text": [
      "                PLAYER       W       L    FGM    3PM    FTM   AST   REB  OREB  \\\n",
      "0       Michael Jordan   64.71   35.29  45.68  31.45  80.55  4.10  5.86  1.19   \n",
      "1          Karl Malone   67.65   32.35  50.08  24.66  77.69  4.21  9.06  1.88   \n",
      "2            Glen Rice   61.22   38.78  44.58  40.71  85.57  1.76  3.64  0.72   \n",
      "3       Mitch Richmond   43.09   56.91  43.38  38.15  86.90  2.90  3.02  0.55   \n",
      "4     Latrell Sprewell   51.07   48.93  42.04  34.17  82.18  3.92  3.98  0.71   \n",
      "...                ...     ...     ...    ...    ...    ...   ...   ...   ...   \n",
      "2324      Didi Louzada    0.00  100.00  23.08  25.00   0.00  1.00  1.00  0.33   \n",
      "2325       Malik Fitts  100.00    0.00  33.33  50.00   0.00  0.00  1.00  0.00   \n",
      "2326     Ashton Hagans    0.00  100.00   0.00   0.00   0.00  0.00  0.00  0.00   \n",
      "2327  Greg Whittington   75.00   25.00   0.00   0.00   0.00  0.00  0.00  0.00   \n",
      "2328       Will Magnay  100.00    0.00   0.00   0.00   0.00  0.00  0.00  0.00   \n",
      "\n",
      "      DREB    PTS   STL   TOV   BLK    PF    +/-  \n",
      "0     4.67  25.50  1.60  2.24  0.50  1.95   4.71  \n",
      "1     7.18  23.50  1.35  2.93  0.67  2.74   5.20  \n",
      "2     2.92  16.17  0.66  1.56  0.19  2.15   2.24  \n",
      "3     2.47  18.20  1.17  2.21  0.20  2.18  -1.19  \n",
      "4     3.27  17.99  1.24  2.58  0.30  1.82  -0.18  \n",
      "...    ...    ...   ...   ...   ...   ...    ...  \n",
      "2324  0.67   2.67  0.67  1.00  0.00  1.67  -3.67  \n",
      "2325  1.00   1.00  0.00  0.00  0.00  1.00  -2.00  \n",
      "2326  0.00   0.00  0.00  0.50  0.00  0.00  -1.50  \n",
      "2327  0.00   0.00  0.00  0.00  0.00  0.00   2.25  \n",
      "2328  0.00   0.00  0.00  1.00  0.00  1.00 -10.00  \n",
      "\n",
      "[2329 rows x 16 columns]\n"
     ]
    }
   ],
   "source": [
    "def avg_plus_minus():\n",
    "    stats_PLMIN = []\n",
    "    for player in allPlayers:\n",
    "        soucet = 0\n",
    "        pocet = 0\n",
    "        for season in sheet_names:\n",
    "            seasonList = dict_df.get(season)\n",
    "            soucet += seasonList.loc[seasonList['PLAYER'] == player, '+/-'].sum()\n",
    "            pocet += seasonList.loc[seasonList['PLAYER'] == player, 'GP'].sum()\n",
    "        if (pocet > 0):\n",
    "            prumer = round((soucet/pocet),2)\n",
    "            stats_PLMIN.append(prumer)\n",
    "        else:\n",
    "            stats_PLMIN.append(0)\n",
    "    df_allPlayers['+/-'] = stats_PLMIN\n",
    "avg_plus_minus()\n",
    "print(df_allPlayers) "
   ]
  },
  {
   "cell_type": "markdown",
   "metadata": {},
   "source": [
    "### Function for counting of the ratio of the player's time played to the total time (%) of every player for 25 seasons"
   ]
  },
  {
   "cell_type": "code",
   "execution_count": 16,
   "metadata": {},
   "outputs": [
    {
     "name": "stdout",
     "output_type": "stream",
     "text": [
      "                PLAYER       W       L    FGM    3PM    FTM   AST   REB  OREB  \\\n",
      "0       Michael Jordan   64.71   35.29  45.68  31.45  80.55  4.10  5.86  1.19   \n",
      "1          Karl Malone   67.65   32.35  50.08  24.66  77.69  4.21  9.06  1.88   \n",
      "2            Glen Rice   61.22   38.78  44.58  40.71  85.57  1.76  3.64  0.72   \n",
      "3       Mitch Richmond   43.09   56.91  43.38  38.15  86.90  2.90  3.02  0.55   \n",
      "4     Latrell Sprewell   51.07   48.93  42.04  34.17  82.18  3.92  3.98  0.71   \n",
      "...                ...     ...     ...    ...    ...    ...   ...   ...   ...   \n",
      "2324      Didi Louzada    0.00  100.00  23.08  25.00   0.00  1.00  1.00  0.33   \n",
      "2325       Malik Fitts  100.00    0.00  33.33  50.00   0.00  0.00  1.00  0.00   \n",
      "2326     Ashton Hagans    0.00  100.00   0.00   0.00   0.00  0.00  0.00  0.00   \n",
      "2327  Greg Whittington   75.00   25.00   0.00   0.00   0.00  0.00  0.00  0.00   \n",
      "2328       Will Magnay  100.00    0.00   0.00   0.00   0.00  0.00  0.00  0.00   \n",
      "\n",
      "      DREB    PTS   STL   TOV   BLK    PF    +/-   MIN  \n",
      "0     4.67  25.50  1.60  2.24  0.50  1.95   4.71  0.12  \n",
      "1     7.18  23.50  1.35  2.93  0.67  2.74   5.20  0.22  \n",
      "2     2.92  16.17  0.66  1.56  0.19  2.15   2.24  0.16  \n",
      "3     2.47  18.20  1.17  2.21  0.20  2.18  -1.19  0.12  \n",
      "4     3.27  17.99  1.24  2.58  0.30  1.82  -0.18  0.24  \n",
      "...    ...    ...   ...   ...   ...   ...    ...   ...  \n",
      "2324  0.67   2.67  0.67  1.00  0.00  1.67  -3.67  0.00  \n",
      "2325  1.00   1.00  0.00  0.00  0.00  1.00  -2.00  0.00  \n",
      "2326  0.00   0.00  0.00  0.50  0.00  0.00  -1.50  0.00  \n",
      "2327  0.00   0.00  0.00  0.00  0.00  0.00   2.25  0.00  \n",
      "2328  0.00   0.00  0.00  1.00  0.00  1.00 -10.00  0.00  \n",
      "\n",
      "[2329 rows x 17 columns]\n"
     ]
    }
   ],
   "source": [
    "def return_max_GP():\n",
    "    seasonGamesCount = 0\n",
    "    for season in sheet_names:\n",
    "        seasonList = dict_df.get(season)    \n",
    "        seasonGamesCount += seasonList['GP'].max()\n",
    "    return seasonGamesCount      \n",
    "returnIS = return_max_GP()\n",
    "    \n",
    "def minutes_played():\n",
    "    stats_MIN = []\n",
    "    for player in allPlayers:\n",
    "        pocetMinut = 0 \n",
    "        maxPocet = return_max_GP()  \n",
    "        maxOdehPocet = maxPocet * 48\n",
    "        for season in sheet_names:\n",
    "            seasonList = dict_df.get(season)\n",
    "            pocetMinut += seasonList.loc[seasonList['PLAYER'] == player, 'MIN'].sum()    \n",
    "        min = round((pocetMinut/maxOdehPocet),2)     \n",
    "          \n",
    "        stats_MIN.append(min)    \n",
    "    df_allPlayers['MIN'] = stats_MIN\n",
    "minutes_played()\n",
    "print(df_allPlayers)\n",
    "    "
   ]
  },
  {
   "cell_type": "markdown",
   "metadata": {},
   "source": [
    "### Write whole DataFrame into .xlsx file"
   ]
  },
  {
   "cell_type": "code",
   "execution_count": 17,
   "metadata": {},
   "outputs": [
    {
     "name": "stdout",
     "output_type": "stream",
     "text": [
      "Written into .xlsx\n"
     ]
    }
   ],
   "source": [
    "import pandas as pd\n",
    "\n",
    "with pd.ExcelWriter('excelFiles/stats.xlsx', engine='openpyxl', mode='a', if_sheet_exists='replace') as writer: \n",
    "    df_allPlayers.to_excel(writer, sheet_name=\"all_players\", index=False)\n",
    "print('Written into .xlsx') "
   ]
  }
 ],
 "metadata": {
  "interpreter": {
   "hash": "03ad1569604374f1df5a5a0c8d9e4f8481a1ac307090d1ddc4e095804a353c0f"
  },
  "kernelspec": {
   "display_name": "Python 3.9.12 64-bit",
   "language": "python",
   "name": "python3"
  },
  "language_info": {
   "codemirror_mode": {
    "name": "ipython",
    "version": 3
   },
   "file_extension": ".py",
   "mimetype": "text/x-python",
   "name": "python",
   "nbconvert_exporter": "python",
   "pygments_lexer": "ipython3",
   "version": "3.9.12"
  },
  "orig_nbformat": 4
 },
 "nbformat": 4,
 "nbformat_minor": 2
}
